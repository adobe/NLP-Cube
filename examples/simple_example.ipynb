{
  "nbformat": 4,
  "nbformat_minor": 0,
  "metadata": {
    "colab": {
      "name": "Untitled1.ipynb",
      "version": "0.3.2",
      "provenance": []
    },
    "kernelspec": {
      "name": "python3",
      "display_name": "Python 3"
    }
  },
  "cells": [
    {
      "metadata": {
        "id": "Gc7GgjfyW7R2",
        "colab_type": "code",
        "colab": {
          "base_uri": "https://localhost:8080/",
          "height": 408
        },
        "outputId": "7d83d38e-e826-45dc-8bc1-209c2421d7c5"
      },
      "cell_type": "code",
      "source": [
        "!pip3 install nlpcube==0.0.9.8"
      ],
      "execution_count": 9,
      "outputs": [
        {
          "output_type": "stream",
          "text": [
            "Collecting nlpcube==0.0.9.8\n",
            "\u001b[?25l  Downloading https://files.pythonhosted.org/packages/99/a7/2507fee039f5ff71df65be1f74c1d415f2207c19466f546b321eb6254060/nlpcube-0.0.9.8-py3-none-any.whl (98kB)\n",
            "\u001b[K    100% |████████████████████████████████| 102kB 2.7MB/s \n",
            "\u001b[?25hRequirement already satisfied: dyNET>=2.0.3 in /usr/local/lib/python3.6/dist-packages (from nlpcube==0.0.9.8) (2.1)\n",
            "Requirement already satisfied: future>=0.16.0 in /usr/local/lib/python3.6/dist-packages (from nlpcube==0.0.9.8) (0.16.0)\n",
            "Requirement already satisfied: xmltodict==0.11.0 in /usr/local/lib/python3.6/dist-packages (from nlpcube==0.0.9.8) (0.11.0)\n",
            "Requirement already satisfied: requests>=2.18.4 in /usr/local/lib/python3.6/dist-packages (from nlpcube==0.0.9.8) (2.18.4)\n",
            "Requirement already satisfied: Cython>=0.28.1 in /usr/local/lib/python3.6/dist-packages (from nlpcube==0.0.9.8) (0.28.5)\n",
            "Requirement already satisfied: scipy>=1.0.0 in /usr/local/lib/python3.6/dist-packages (from nlpcube==0.0.9.8) (1.1.0)\n",
            "Requirement already satisfied: nose2==0.7.3 in /usr/local/lib/python3.6/dist-packages (from nlpcube==0.0.9.8) (0.7.3)\n",
            "Requirement already satisfied: nltk>=3.2.5 in /usr/local/lib/python3.6/dist-packages (from nlpcube==0.0.9.8) (3.2.5)\n",
            "Requirement already satisfied: numpy in /usr/local/lib/python3.6/dist-packages (from dyNET>=2.0.3->nlpcube==0.0.9.8) (1.14.5)\n",
            "Requirement already satisfied: chardet<3.1.0,>=3.0.2 in /usr/local/lib/python3.6/dist-packages (from requests>=2.18.4->nlpcube==0.0.9.8) (3.0.4)\n",
            "Requirement already satisfied: certifi>=2017.4.17 in /usr/local/lib/python3.6/dist-packages (from requests>=2.18.4->nlpcube==0.0.9.8) (2018.8.24)\n",
            "Requirement already satisfied: urllib3<1.23,>=1.21.1 in /usr/local/lib/python3.6/dist-packages (from requests>=2.18.4->nlpcube==0.0.9.8) (1.22)\n",
            "Requirement already satisfied: idna<2.7,>=2.5 in /usr/local/lib/python3.6/dist-packages (from requests>=2.18.4->nlpcube==0.0.9.8) (2.6)\n",
            "Requirement already satisfied: coverage>=4.4.1 in /usr/local/lib/python3.6/dist-packages (from nose2==0.7.3->nlpcube==0.0.9.8) (4.5.1)\n",
            "Requirement already satisfied: six>=1.7 in /usr/local/lib/python3.6/dist-packages (from nose2==0.7.3->nlpcube==0.0.9.8) (1.11.0)\n",
            "Installing collected packages: nlpcube\n",
            "  Found existing installation: nlpcube 0.0.9.5\n",
            "    Uninstalling nlpcube-0.0.9.5:\n",
            "      Successfully uninstalled nlpcube-0.0.9.5\n",
            "Successfully installed nlpcube-0.0.9.8\n"
          ],
          "name": "stdout"
        }
      ]
    },
    {
      "metadata": {
        "id": "t-AgZEVNW9Sv",
        "colab_type": "code",
        "colab": {}
      },
      "cell_type": "code",
      "source": [
        "from cube.api import Cube\n",
        "\n",
        "cube=Cube(verbose=True)"
      ],
      "execution_count": 0,
      "outputs": []
    },
    {
      "metadata": {
        "id": "M99mLVvAXUlb",
        "colab_type": "code",
        "colab": {
          "base_uri": "https://localhost:8080/",
          "height": 221
        },
        "outputId": "8bb3abb8-d795-4a65-dc0c-0f65b24c24d5"
      },
      "cell_type": "code",
      "source": [
        "cube.load(\"en\")"
      ],
      "execution_count": 11,
      "outputs": [
        {
          "output_type": "stream",
          "text": [
            "Latest version found online: en-1.0\n",
            "Download complete, decompressing files ...                                         \n",
            "Model downloaded successfully.\n",
            "Checking for associated vector embeddings file [wiki.en.vec] ...\n",
            "Embeddings downloaded successfully.                                                  \n",
            "\tLoading embeddings... \n",
            "\tLoading tokenization model ...\n",
            "\tLemmatizer is not available on this model. \n",
            "\tLoading tagger model ...\n",
            "\tLoading parser model ...\n",
            "Model loading complete.\n",
            "\n"
          ],
          "name": "stdout"
        }
      ]
    },
    {
      "metadata": {
        "id": "a1gsnXZbdj_G",
        "colab_type": "code",
        "colab": {
          "base_uri": "https://localhost:8080/",
          "height": 680
        },
        "outputId": "8b79b16f-930e-40c7-ac29-45c7249fb7d1"
      },
      "cell_type": "code",
      "source": [
        "text=\"NLPCube is an opensource Natural Language Processing Framework that supports more than 60 languages. It is easy to install and use and can be used to build custom models based on 3rd-party corpora.\"\n",
        "\n",
        "sequences=cube(text)\n",
        "\n",
        "for sequence in sequences:\n",
        "  for entry in sequence:\n",
        "    print(str(entry.index)+\"\\t\"+entry.word+\"\\t\"+entry.lemma+\"\\t\"+entry.upos+\"\\t\"+entry.xpos+\"\\t\"+entry.attrs+\"\\t\"+str(entry.head)+\"\\t\"+str(entry.label)+\"\\t\"+entry.space_after)\n",
        "  print(\"\")\n",
        "    "
      ],
      "execution_count": 13,
      "outputs": [
        {
          "output_type": "stream",
          "text": [
            "1\tNLPCube\t_\tPROPN\tNNP\tNumber=Sing\t8\tnsubj\t_\n",
            "2\tis\t_\tAUX\tVBZ\tMood=Ind|Number=Sing|Person=3|Tense=Pres|VerbForm=Fin\t8\tcop\t_\n",
            "3\tan\t_\tDET\tDT\tDefinite=Ind|PronType=Art\t8\tdet\t_\n",
            "4\topensource\t_\tNOUN\tNN\tNumber=Sing\t8\tamod\t_\n",
            "5\tNatural\t_\tADJ\tJJ\tDegree=Pos\t6\tamod\t_\n",
            "6\tLanguage\t_\tNOUN\tNN\tNumber=Sing\t8\tcompound\t_\n",
            "7\tProcessing\t_\tNOUN\tNN\tNumber=Sing\t8\tcompound\t_\n",
            "8\tFramework\t_\tNOUN\tNN\tNumber=Sing\t0\troot\t_\n",
            "9\tthat\t_\tPRON\tWDT\tPronType=Rel\t10\tnsubj\t_\n",
            "10\tsupports\t_\tVERB\tVBZ\tMood=Ind|Number=Sing|Person=3|Tense=Pres|VerbForm=Fin\t8\tacl:relcl\t_\n",
            "11\tmore\t_\tADJ\tJJR\tDegree=Cmp\t13\tadvmod\t_\n",
            "12\tthan\t_\tADP\tIN\t_\t11\tfixed\t_\n",
            "13\t60\t_\tNUM\tCD\tNumType=Card\t14\tnummod\t_\n",
            "14\tlanguages\t_\tNOUN\tNNS\tNumber=Plur\t10\tobj\tSpaceAfter=No\n",
            "15\t.\t_\tPUNCT\t.\t_\t8\tpunct\t_\n",
            "\n",
            "1\tIt\t_\tPRON\tPRP\tCase=Nom|Gender=Neut|Number=Sing|Person=3|PronType=Prs\t3\texpl\t_\n",
            "2\tis\t_\tAUX\tVBZ\tMood=Ind|Number=Sing|Person=3|Tense=Pres|VerbForm=Fin\t3\tcop\t_\n",
            "3\teasy\t_\tADJ\tJJ\tDegree=Pos\t0\troot\t_\n",
            "4\tto\t_\tPART\tTO\t_\t5\tmark\t_\n",
            "5\tinstall\t_\tVERB\tVB\tVerbForm=Inf\t3\tcsubj\t_\n",
            "6\tand\t_\tCCONJ\tCC\t_\t7\tcc\t_\n",
            "7\tuse\t_\tVERB\tVB\tVerbForm=Inf\t5\tconj\t_\n",
            "8\tand\t_\tCCONJ\tCC\t_\t11\tcc\t_\n",
            "9\tcan\t_\tAUX\tMD\tVerbForm=Fin\t11\taux\t_\n",
            "10\tbe\t_\tVERB\tVB\tVerbForm=Inf\t11\taux:pass\t_\n",
            "11\tused\t_\tVERB\tVBN\tTense=Past|VerbForm=Part|Voice=Pass\t3\tconj\t_\n",
            "12\tto\t_\tPART\tTO\t_\t13\tmark\t_\n",
            "13\tbuild\t_\tVERB\tVB\tVerbForm=Inf\t11\txcomp\t_\n",
            "14\tcustom\t_\tADJ\tJJ\tDegree=Pos\t15\tamod\t_\n",
            "15\tmodels\t_\tNOUN\tNNS\tNumber=Plur\t13\tobj\t_\n",
            "16\tbased\t_\tVERB\tVBN\tTense=Past|VerbForm=Part\t21\tcase\t_\n",
            "17\ton\t_\tADP\tIN\t_\t21\tcase\t_\n",
            "18\t3rd\t_\tADJ\tJJ\tDegree=Pos|NumType=Ord\t20\tnummod\tSpaceAfter=No\n",
            "19\t-\t_\tPUNCT\tHYPH\t_\t20\tpunct\tSpaceAfter=No\n",
            "20\tparty\t_\tNOUN\tNN\tNumber=Sing\t21\tcompound\t_\n",
            "21\tcorpora\t_\tNOUN\tNNS\tNumber=Plur\t13\tobl\tSpaceAfter=No\n",
            "22\t.\t_\tPUNCT\t.\t_\t3\tpunct\tSpaceAfter=No\n",
            "\n"
          ],
          "name": "stdout"
        }
      ]
    },
    {
      "metadata": {
        "id": "OopcPVWatXeh",
        "colab_type": "code",
        "colab": {}
      },
      "cell_type": "code",
      "source": [
        ""
      ],
      "execution_count": 0,
      "outputs": []
    }
  ]
}