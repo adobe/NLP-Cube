{
  "nbformat": 4,
  "nbformat_minor": 0,
  "metadata": {
    "colab": {
      "name": "Untitled1.ipynb",
      "version": "0.3.2",
      "provenance": []
    },
    "kernelspec": {
      "name": "python3",
      "display_name": "Python 3"
    }
  },
  "cells": [
    {
      "metadata": {
        "id": "Gc7GgjfyW7R2",
        "colab_type": "code",
        "colab": {
          "base_uri": "https://localhost:8080/",
          "height": 408
        },
        "outputId": "7d83d38e-e826-45dc-8bc1-209c2421d7c5"
      },
      "cell_type": "code",
      "source": [
        "!pip3 install nlpcube==0.0.9.8"
      ],
      "execution_count": 9,
      "outputs": [
        {
          "output_type": "stream",
          "text": [
            "Collecting nlpcube==0.0.9.8\n",
            "\u001b[?25l  Downloading https://files.pythonhosted.org/packages/99/a7/2507fee039f5ff71df65be1f74c1d415f2207c19466f546b321eb6254060/nlpcube-0.0.9.8-py3-none-any.whl (98kB)\n",
            "\u001b[K    100% |████████████████████████████████| 102kB 2.7MB/s \n",
            "\u001b[?25hRequirement already satisfied: dyNET>=2.0.3 in /usr/local/lib/python3.6/dist-packages (from nlpcube==0.0.9.8) (2.1)\n",
            "Requirement already satisfied: future>=0.16.0 in /usr/local/lib/python3.6/dist-packages (from nlpcube==0.0.9.8) (0.16.0)\n",
            "Requirement already satisfied: xmltodict==0.11.0 in /usr/local/lib/python3.6/dist-packages (from nlpcube==0.0.9.8) (0.11.0)\n",
            "Requirement already satisfied: requests>=2.18.4 in /usr/local/lib/python3.6/dist-packages (from nlpcube==0.0.9.8) (2.18.4)\n",
            "Requirement already satisfied: Cython>=0.28.1 in /usr/local/lib/python3.6/dist-packages (from nlpcube==0.0.9.8) (0.28.5)\n",
            "Requirement already satisfied: scipy>=1.0.0 in /usr/local/lib/python3.6/dist-packages (from nlpcube==0.0.9.8) (1.1.0)\n",
            "Requirement already satisfied: nose2==0.7.3 in /usr/local/lib/python3.6/dist-packages (from nlpcube==0.0.9.8) (0.7.3)\n",
            "Requirement already satisfied: nltk>=3.2.5 in /usr/local/lib/python3.6/dist-packages (from nlpcube==0.0.9.8) (3.2.5)\n",
            "Requirement already satisfied: numpy in /usr/local/lib/python3.6/dist-packages (from dyNET>=2.0.3->nlpcube==0.0.9.8) (1.14.5)\n",
            "Requirement already satisfied: chardet<3.1.0,>=3.0.2 in /usr/local/lib/python3.6/dist-packages (from requests>=2.18.4->nlpcube==0.0.9.8) (3.0.4)\n",
            "Requirement already satisfied: certifi>=2017.4.17 in /usr/local/lib/python3.6/dist-packages (from requests>=2.18.4->nlpcube==0.0.9.8) (2018.8.24)\n",
            "Requirement already satisfied: urllib3<1.23,>=1.21.1 in /usr/local/lib/python3.6/dist-packages (from requests>=2.18.4->nlpcube==0.0.9.8) (1.22)\n",
            "Requirement already satisfied: idna<2.7,>=2.5 in /usr/local/lib/python3.6/dist-packages (from requests>=2.18.4->nlpcube==0.0.9.8) (2.6)\n",
            "Requirement already satisfied: coverage>=4.4.1 in /usr/local/lib/python3.6/dist-packages (from nose2==0.7.3->nlpcube==0.0.9.8) (4.5.1)\n",
            "Requirement already satisfied: six>=1.7 in /usr/local/lib/python3.6/dist-packages (from nose2==0.7.3->nlpcube==0.0.9.8) (1.11.0)\n",
            "Installing collected packages: nlpcube\n",
            "  Found existing installation: nlpcube 0.0.9.5\n",
            "    Uninstalling nlpcube-0.0.9.5:\n",
            "      Successfully uninstalled nlpcube-0.0.9.5\n",
            "Successfully installed nlpcube-0.0.9.8\n"
          ],
          "name": "stdout"
        }
      ]
    },
    {
      "metadata": {
        "id": "t-AgZEVNW9Sv",
        "colab_type": "code",
        "colab": {}
      },
      "cell_type": "code",
      "source": [
        "from cube.api import Cube\n",
        "\n",
        "cube=Cube(verbose=True)"
      ],
      "execution_count": 0,
      "outputs": []
    },
    {
      "metadata": {
        "id": "M99mLVvAXUlb",
        "colab_type": "code",
        "colab": {
          "base_uri": "https://localhost:8080/",
          "height": 102
        },
        "outputId": "8bb3abb8-d795-4a65-dc0c-0f65b24c24d5"
      },
      "cell_type": "code",
      "source": [
        "cube.load(\"en\")"
      ],
      "execution_count": 0,
      "outputs": [
        {
          "output_type": "stream",
          "text": [
            "Latest version found online: en-1.0\n",
            "Download complete, decompressing files ...                                         \n",
            "Model downloaded successfully.\n",
            "Checking for associated vector embeddings file [wiki.en.vec] ...\n",
            "[================                        ] 40.6%, downloading 2554.75/6291.62 MB ..."
          ],
          "name": "stdout"
        }
      ]
    },
    {
      "metadata": {
        "id": "a1gsnXZbdj_G",
        "colab_type": "code",
        "colab": {}
      },
      "cell_type": "code",
      "source": [
        "text=\"NLP-Cube is an opensource Natural Language Processing Framework that supports more than 60 languages. It is easy to install and use and can be used to build custom models based on 3rd-party corpora.\"\n",
        "\n",
        "sequences=cube(text)\n",
        "\n",
        "for sequence in sequences:\n",
        "  for entry in sequence:\n",
        "    print(str(entry.index)+\"\\t\"+entry.word+\"\\t\"+entry.lemma+\"\\t\"+entry.upos+\"\\t\"+entry.xpos+\"\\t\"+entry.attrs+\"\\t\"+str(entry.head)+\"\\t\"+str(entry.label)+\"\\t\"+entry.space_after)\n",
        "  print(\"\")\n",
        "    "
      ],
      "execution_count": 0,
      "outputs": []
    }
  ]
}