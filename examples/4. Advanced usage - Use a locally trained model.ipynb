{
 "cells": [
  {
   "cell_type": "markdown",
   "metadata": {},
   "source": [
    "# Use a locally trained model\n",
    "\n",
    "Congratulations, you just trained your own model. We'll assume that we have a model folder named 'my_model-1.0' located in '/work'. (See the previous tutorial on how to [train your models](#) to put things into context)\n",
    "\n",
    "This notebook looks at how to train a model using the Universal Dependencies Corpus. \n",
    "We will learn how to (1) download the UD Corpus, (2) train a tokenizer and a tagger model on a specific language and then (3) pack it all up in a zip model that we'll use locally.\n",
    "\n",
    "This notebook is run on a 18.04 Ubuntu, with Python3 installed. Assume we are working in folder ``/work``. Also, let's assume that NLP-Cube is installed locally in ``/work/NLP-Cube``. If you do not have NLP-Cube installed locally (not using pip install, but direclty cloning the github repo), please first follow the [local install guide](#).\n",
    "\n",
    "\n",
    "### Using NLP-Cube from your own project\n",
    "\n",
    "Let's create a \"project\" named ``my_project`` with a single ``main.py`` file, and place it in ``/work``.\n",
    "\n",
    "The folder should look like:"
   ]
  },
  {
   "cell_type": "code",
   "execution_count": 1,
   "metadata": {},
   "outputs": [
    {
     "name": "stdout",
     "output_type": "stream",
     "text": [
      "main.py\r\n"
     ]
    }
   ],
   "source": [
    "! ls /work/my_project"
   ]
  },
  {
   "cell_type": "markdown",
   "metadata": {},
   "source": [
    "The file has the following code:\n",
    "\n",
    "```\n",
    "import sys, os\n",
    "\n",
    "root_path = os.path.dirname(os.path.dirname(os.path.abspath(__file__)))\n",
    "nlp_cube_path = os.path.join(root_path,\"NLP-Cube\")\n",
    "os.sys.path.insert(0, nlp_cube_path)\n",
    "\n",
    "my_model_root = \"/work\" \n",
    "local_embeddings_file = os.path.join(\"/work\",\"wiki.en.vec\")\n",
    "\n",
    "from cube.api import Cube\n",
    "cube=Cube(verbose=True)\n",
    "cube.load(language_code=\"my_model\", version=\"1.0\", local_models_repository=my_model_root, local_embeddings_file=local_embeddings_file)\n",
    "\n",
    "text = \"I'm a success today because I had a friend who believed in me and I didn't have the heart to let him down. This is a quote by Abraham Lincoln.\"\n",
    "sentences = cube(text)\n",
    "for sentence in sentences:\n",
    "    print()\n",
    "    for token in sentence:\n",
    "        line = \"\"\n",
    "        line += str(token.index) + \"\\t\"\n",
    "        line += token.word + \"\\t\"\n",
    "        line += token.lemma + \"\\t\"\n",
    "        line += token.upos + \"\\t\"\n",
    "        line += token.xpos + \"\\t\"\n",
    "        line += token.attrs + \"\\t\"\n",
    "        line += str(token.head) + \"\\t\"\n",
    "        line += token.label + \"\\t\"\n",
    "        line += token.deps + \"\\t\"\n",
    "        line += token.space_after\n",
    "        print(line)\n",
    "```"
   ]
  },
  {
   "cell_type": "markdown",
   "metadata": {},
   "source": [
    "Running it will print:"
   ]
  },
  {
   "cell_type": "code",
   "execution_count": 22,
   "metadata": {
    "scrolled": true
   },
   "outputs": [
    {
     "name": "stdout",
     "output_type": "stream",
     "text": [
      "[dynet] random seed: 3654745557\n",
      "[dynet] allocating memory: 512MB\n",
      "[dynet] memory allocation done.\n",
      "\tLoading embeddings... \n",
      "\tLoading tokenization model ...\n",
      "\tLemmatizer is not available on this model. \n",
      "\tLoading tagger model ...\n",
      "\tParsing is not available on this model... \n",
      "Model loading complete.\n",
      "\n",
      "\n",
      "1\tI\t_\tPRON\tPRP\tCase=Nom|Number=Sing|Person=1|PronType=Prs\t0\t_\t_\tSpaceAfter=No\n",
      "2\t'm\t_\tAUX\tVBP\tMood=Ind|Tense=Pres|VerbForm=Fin\t0\t_\t_\t_\n",
      "3\ta\t_\tDET\tDT\tDefinite=Ind|PronType=Art\t0\t_\t_\t_\n",
      "4\tsuccess\t_\tNOUN\tNN\tNumber=Sing\t0\t_\t_\t_\n",
      "5\ttoday\t_\tNOUN\tNN\tNumber=Sing\t0\t_\t_\t_\n",
      "6\tbecause\t_\tSCONJ\tIN\t_\t0\t_\t_\t_\n",
      "7\tI\t_\tPRON\tPRP\tCase=Nom|Number=Sing|Person=1|PronType=Prs\t0\t_\t_\t_\n",
      "8\thad\t_\tVERB\tVBD\tMood=Ind|Tense=Past|VerbForm=Fin\t0\t_\t_\t_\n",
      "9\ta\t_\tDET\tDT\tDefinite=Ind|PronType=Art\t0\t_\t_\t_\n",
      "10\tfriend\t_\tNOUN\tNN\tNumber=Sing\t0\t_\t_\t_\n",
      "11\twho\t_\tPRON\tWP\tPronType=Rel\t0\t_\t_\t_\n",
      "12\tbelieved\t_\tVERB\tVBD\tMood=Ind|Tense=Past|VerbForm=Fin\t0\t_\t_\t_\n",
      "13\tin\t_\tADP\tIN\t_\t0\t_\t_\t_\n",
      "14\tme\t_\tPRON\tPRP\tCase=Acc|Number=Sing|Person=1|PronType=Prs\t0\t_\t_\t_\n",
      "15\tand\t_\tCCONJ\tCC\t_\t0\t_\t_\t_\n",
      "16\tI\t_\tPRON\tPRP\tCase=Nom|Number=Sing|Person=1|PronType=Prs\t0\t_\t_\t_\n",
      "17\tdidn't\t_\tADV\tMD\tVerbForm=Fin\t0\t_\t_\t_\n",
      "18\thave\t_\tVERB\tVB\tMood=Ind|Tense=Pres|VerbForm=Fin\t0\t_\t_\t_\n",
      "19\tthe\t_\tDET\tDT\tDefinite=Def|PronType=Art\t0\t_\t_\t_\n",
      "20\theart\t_\tNOUN\tNN\tNumber=Sing\t0\t_\t_\t_\n",
      "21\tto\t_\tPART\tTO\t_\t0\t_\t_\t_\n",
      "22\tlet\t_\tVERB\tVB\tVerbForm=Inf\t0\t_\t_\t_\n",
      "23\thim\t_\tPRON\tPRP\tCase=Acc|Gender=Masc|Number=Sing|Person=3|PronType=Prs\t0\t_\t_\t_\n",
      "24\tdown\t_\tADP\tRP\t_\t0\t_\t_\tSpaceAfter=No\n",
      "25\t.\t_\tPUNCT\t.\t_\t0\t_\t_\t_\n",
      "\n",
      "1\tThis\t_\tPRON\tDT\tNumber=Sing|PronType=Dem\t0\t_\t_\t_\n",
      "2\tis\t_\tAUX\tVBZ\tMood=Ind|Number=Sing|Person=3|Tense=Pres|VerbForm=Fin\t0\t_\t_\t_\n",
      "3\ta\t_\tDET\tDT\tDefinite=Ind|PronType=Art\t0\t_\t_\t_\n",
      "4\tquote\t_\tNOUN\tNN\tNumber=Sing\t0\t_\t_\t_\n",
      "5\tby\t_\tADP\tIN\t_\t0\t_\t_\t_\n",
      "6\tAbraham\t_\tPROPN\tNNP\tNumber=Sing\t0\t_\t_\t_\n",
      "7\tLincoln\t_\tPROPN\tNNP\tNumber=Sing\t0\t_\t_\tSpaceAfter=No\n",
      "8\t.\t_\tPUNCT\t.\t_\t0\t_\t_\tSpaceAfter=No\n"
     ]
    }
   ],
   "source": [
    "! cd /work/my_project && python3 main.py"
   ]
  },
  {
   "cell_type": "markdown",
   "metadata": {},
   "source": [
    "That's it. You just tokenized and tagged your own set of sentences.\n",
    "\n",
    "---\n",
    "\n",
    "#### A few details\n",
    "\n",
    "Below we'll analyze each line of the script:\n",
    "\n",
    "We start with:\n",
    "```\n",
    "import sys, os\n",
    "\n",
    "root_path = os.path.dirname(os.path.dirname(os.path.abspath(__file__)))\n",
    "nlp_cube_path = os.path.join(root_path,\"NLP-Cube\")\n",
    "os.sys.path.insert(0, nlp_cube_path)\n",
    "```\n",
    "where we manually insert the path to NLP-Cube. Remember that ``NLP-Cube``, ``my_project`` and ``my_model-1.0`` are all located in ``/work``. Simply compose the path from your script to NLP-Cube, or, use any other method for your script to have access to NLP-Cube's libraries (like extending NLP-Cube or including it in your own project as a package). \n",
    "\n",
    "```\n",
    "my_model_root = \"/work\" \n",
    "local_embeddings_file = os.path.join(\"/work\",\"wiki.en.vec\")\n",
    "```\n",
    "NLP-Cube's model library is structured as a \"root\" folder with subfolders as models. This is why we need to specify ``/work`` as the model root folder, and let NLP-Cube then select ``my_model-1.0`` as the model we want. Also, for locally trained models we need to specify a path to our vector embeddings file (because we don't have a metadata.json file yet - we'll see in the next [tutorial](#) how to do that). Our embeddings file is simply ``/work/wiki.en.vec``.\n",
    "\n",
    "```\n",
    "from cube.api import Cube\n",
    "cube=Cube(verbose=True)\n",
    "cube.load(language_code=\"my_model\", version=\"1.0\", local_models_repository=my_model_root, local_embeddings_file=local_embeddings_file)\n",
    "```\n",
    "\n",
    "we import the Cube object, initialize it, and load our model. Notice that we specify which model we want by name directly in ``language_code=\"my_model\"`` and its version in the ``version=\"1.0\"``. If we don't specify a version, it will automatically pick the latest (biggest number) version. \n",
    "\n",
    "Because we trained a local model, we need to specify the local model repository, in this case simply ``/work``, and the full path to the local embeddings file.\n",
    "\n",
    "Next, we calling ``sentences = cube(text)`` will automatically process the text.\n",
    "\n",
    "---\n",
    "\n",
    "In the following tutorial we'll cover how to [export your model for others to use](#) in their own NLP-Cube installation. \n"
   ]
  }
 ],
 "metadata": {
  "kernelspec": {
   "display_name": "Python 3",
   "language": "python",
   "name": "python3"
  },
  "language_info": {
   "codemirror_mode": {
    "name": "ipython",
    "version": 3
   },
   "file_extension": ".py",
   "mimetype": "text/x-python",
   "name": "python",
   "nbconvert_exporter": "python",
   "pygments_lexer": "ipython3",
   "version": "3.6.6"
  }
 },
 "nbformat": 4,
 "nbformat_minor": 2
}
