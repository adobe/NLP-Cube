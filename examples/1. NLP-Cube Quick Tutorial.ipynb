{
 "cells": [
  {
   "cell_type": "markdown",
   "metadata": {},
   "source": [
    "# NLP-Cube Quick Tutorial\n",
    "\n",
    "Install NLP-Cube with ``pip3 install -U nlpcube``. Use the -U flag to ensure the installation of the latest version even if you already have installed NLP-Cube.\n",
    "\n",
    "To use NLP-Cube simply import and initialize the Cube object:"
   ]
  },
  {
   "cell_type": "code",
   "execution_count": 1,
   "metadata": {
    "colab": {},
    "colab_type": "code",
    "id": "t-AgZEVNW9Sv"
   },
   "outputs": [
    {
     "ename": "ModuleNotFoundError",
     "evalue": "No module named 'cube'",
     "output_type": "error",
     "traceback": [
      "\u001b[0;31m---------------------------------------------------------------------------\u001b[0m",
      "\u001b[0;31mModuleNotFoundError\u001b[0m                       Traceback (most recent call last)",
      "\u001b[0;32m<ipython-input-1-43c6dd591b69>\u001b[0m in \u001b[0;36m<module>\u001b[0;34m\u001b[0m\n\u001b[0;32m----> 1\u001b[0;31m \u001b[0;32mfrom\u001b[0m \u001b[0mcube\u001b[0m\u001b[0;34m.\u001b[0m\u001b[0mapi\u001b[0m \u001b[0;32mimport\u001b[0m \u001b[0mCube\u001b[0m\u001b[0;34m\u001b[0m\u001b[0m\n\u001b[0m\u001b[1;32m      2\u001b[0m \u001b[0;34m\u001b[0m\u001b[0m\n\u001b[1;32m      3\u001b[0m \u001b[0mcube\u001b[0m\u001b[0;34m=\u001b[0m\u001b[0mCube\u001b[0m\u001b[0;34m(\u001b[0m\u001b[0mverbose\u001b[0m\u001b[0;34m=\u001b[0m\u001b[0;32mTrue\u001b[0m\u001b[0;34m)\u001b[0m\u001b[0;34m\u001b[0m\u001b[0m\n",
      "\u001b[0;31mModuleNotFoundError\u001b[0m: No module named 'cube'"
     ]
    }
   ],
   "source": [
    "from cube.api import Cube\n",
    "\n",
    "cube=Cube(verbose=True)"
   ]
  },
  {
   "cell_type": "markdown",
   "metadata": {},
   "source": [
    "Now, load a model. We'll request English model. Because this is a new install, we don't have any model locally. The ``.load(\"en\")`` will automatically download the model for us.  "
   ]
  },
  {
   "cell_type": "code",
   "execution_count": 3,
   "metadata": {
    "colab": {
     "base_uri": "https://localhost:8080/",
     "height": 221
    },
    "colab_type": "code",
    "id": "M99mLVvAXUlb",
    "outputId": "4d8ff4e1-989f-4904-f813-dc38eed46ca3"
   },
   "outputs": [
    {
     "name": "stdout",
     "output_type": "stream",
     "text": [
      "Latest version found online: en-1.0\n",
      "Download complete, decompressing files ...                                         \n",
      "Model downloaded successfully.\n",
      "Checking for associated vector embeddings file [wiki.en.vec] ...\n",
      "Embeddings downloaded successfully.                                                  \n",
      "\tLoading embeddings... \n",
      "\tLoading tokenization model ...\n",
      "\tLoading lemmatization model ...\n",
      "\tLoading tagger model ...\n",
      "\tLoading parser model ...\n",
      "Model loading complete.\n",
      "\n"
     ]
    }
   ],
   "source": [
    "cube.load(\"en\")"
   ]
  },
  {
   "cell_type": "markdown",
   "metadata": {},
   "source": [
    "Now, simply call ``cube(\"your-text-as-a-string-here\")``:"
   ]
  },
  {
   "cell_type": "code",
   "execution_count": 4,
   "metadata": {
    "colab": {
     "base_uri": "https://localhost:8080/",
     "height": 340
    },
    "colab_type": "code",
    "id": "a1gsnXZbdj_G",
    "outputId": "338d4315-fec5-4df5-e421-1e4a9cb60184"
   },
   "outputs": [
    {
     "name": "stdout",
     "output_type": "stream",
     "text": [
      "1\tAll\tall\tPUNCT\tPDT\t_\t3\tdet:predet\t_\n",
      "2\tthe\tthe\tDET\tDT\tDefinite=Def|PronType=Art\t3\tdet\t_\n",
      "3\tfaith\tfaith\tNOUN\tNN\tNumber=Sing\t9\tnsubj\t_\n",
      "4\the\the\tPRON\tPRP\tCase=Nom|Gender=Masc|Number=Sing|Person=3|PronType=Prs\t6\tnsubj\t_\n",
      "5\thad\thave\tAUX\tVBD\tMood=Ind|Tense=Past|VerbForm=Fin\t6\taux\t_\n",
      "6\thad\thave\tVERB\tVBN\tTense=Past|VerbForm=Part\t3\tacl:relcl\tSpaceAfter=No\n",
      "7\t,\t,\tPUNCT\t,\t_\t9\tpunct\t_\n",
      "8\thad\thave\tVERB\tVBD\tMood=Ind|Tense=Past|VerbForm=Fin\t9\taux\t_\n",
      "9\thad\thave\tVERB\tVBN\tTense=Past|VerbForm=Part\t0\troot\t_\n",
      "10\tno\tno\tDET\tDT\t_\t11\tdet\t_\n",
      "11\teffect\teffect\tNOUN\tNN\tNumber=Sing\t9\tobj\t_\n",
      "12\ton\ton\tADP\tIN\t_\t14\tcase\t_\n",
      "13\tthe\tthe\tDET\tDT\tDefinite=Def|PronType=Art\t14\tdet\t_\n",
      "14\toutcome\toutcome\tNOUN\tNN\tNumber=Sing\t11\tnmod\t_\n",
      "15\tof\tof\tADP\tIN\t_\t17\tcase\t_\n",
      "16\this\the\tPRON\tPRP$\tGender=Masc|Number=Sing|Person=3|Poss=Yes|PronType=Prs\t17\tnmod:poss\t_\n",
      "17\tlife\tlife\tNOUN\tNN\tNumber=Sing\t14\tnmod\tSpaceAfter=No\n",
      "18\t.\t.\tPUNCT\t.\t_\t9\tpunct\tSpaceAfter=No\n",
      "\n"
     ]
    }
   ],
   "source": [
    "text=\"All the faith he had had, had had no effect on the outcome of his life.\"\n",
    "\n",
    "sequences=cube(text)\n",
    "\n",
    "for sequence in sequences:\n",
    "  for entry in sequence:\n",
    "    print(str(entry.index)+\"\\t\"+entry.word+\"\\t\"+entry.lemma+\"\\t\"+entry.upos+\"\\t\"+entry.xpos+\"\\t\"+entry.attrs+\"\\t\"+str(entry.head)+\"\\t\"+str(entry.label)+\"\\t\"+entry.space_after)\n",
    "  print(\"\")\n",
    "    "
   ]
  },
  {
   "cell_type": "markdown",
   "metadata": {
    "colab": {},
    "colab_type": "code",
    "id": "OopcPVWatXeh"
   },
   "source": [
    "The text is first segmented at the sentence level, then tokenized, and then POS tagged, lemmtized and parsed. \n",
    "\n",
    "The returned ``sequences`` object is simply an array of sentences, where each sentence is a list of objects with all the above properties. \n",
    "\n",
    "For example, if we want to print out the lemmas as a single sentence, we'll do:"
   ]
  }
 ],
 "metadata": {
  "colab": {
   "name": "cube-simple-example.ipynb",
   "provenance": [],
   "version": "0.3.2"
  },
  "kernelspec": {
   "display_name": "Python 3",
   "language": "python",
   "name": "python3"
  },
  "language_info": {
   "codemirror_mode": {
    "name": "ipython",
    "version": 3
   },
   "file_extension": ".py",
   "mimetype": "text/x-python",
   "name": "python",
   "nbconvert_exporter": "python",
   "pygments_lexer": "ipython3",
   "version": "3.6.6"
  }
 },
 "nbformat": 4,
 "nbformat_minor": 1
}
